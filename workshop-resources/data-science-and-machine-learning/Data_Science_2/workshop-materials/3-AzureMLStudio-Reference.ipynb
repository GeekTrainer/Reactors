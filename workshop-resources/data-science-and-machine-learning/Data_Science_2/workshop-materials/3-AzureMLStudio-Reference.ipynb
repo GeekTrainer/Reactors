{
  "cells": [
    {
      "metadata": {},
      "cell_type": "markdown",
      "source": [
        "# Cloud-based machine learning\n",
        "\n",
        "Thus far, we have looked at building and fitting ML models “locally.” True, the notebooks have been located in the cloud themselves, but the models with all of their predictive and classification power are stuck in those notebooks. To use these models, you would have to load data into your notebooks and get the results there.\n",
        "\n",
        "In practice, we want those models accessible from a number of locations. And while the management of production ML models has a lifecycle all its own, one part of that is making models accessible from the web. One way to do so is to develop them using third-party cloud tools, such as [Microsoft Azure Machine Learning](https://ml.azure.com/).\n",
        "\n",
        "Additionally, we've so far only run one machine learning algorithm on each dataset at a time. In addition to the Cloud, Azure Machine Learning also offers `AutoML`: Automated Machine Learning. AutoML is a service where Azure will run the data through many machine learning algorithms and determine which algorithm more accurately classifies customers. "
      ]
    },
    {
      "cell_type": "markdown",
      "metadata": {},
      "source": [
        "## Create and connect to an Azure Machine Learning workspace\n",
        "\n",
        "To be able to use Azure Machine Learning you will need active Azure subscription and a Machine Learning Resource. These steps will walk you through that.\n",
        "\n",
        "1. Open [Azure](https://portal.azure.com) in a new browser tab and sign in with a Microsoft account. Search for the Machine Learning resource and create a new one. We recommend using Enterprise workspace edition.\n",
        "\n",
        "2. Once the Machine Learning Resource is created, go to the Resource and click \"Launch Now\" on the Azure Machine Learning Studio.\n",
        "\n",
        "    ![Azure ML Studio](Images/azureml_studio_launch.png)<br/><br/>\n",
        "\n",
        "3. From the homepage, navigate to the Datasets. Upload the `bank-full.csv` file found on the [UCI Machine Learning Repository](https://archive.ics.uci.edu/ml/datasets/Bank%2BMarketing) to Azure Machine Learning Studio. Choose \"From local file\":  \n",
        "\n",
        "    ![new dataset](Images/upload_dataset.png)<br/><br/>\n",
        "    \n",
        "    Name the dataset `bank-marketing`. Choose tabular as the form. Choose the previously created datastore, one was created when you created the Machine Learning Service in Azure. Then upload the CSV file. Make sure you use the header from the file.\n",
        "    ![header_settings_dataset](Images/settings_datastore.png)<br/><br/>"
      ]
    },
    {
      "metadata": {},
      "cell_type": "markdown",
      "source": [
        "## Explore bank-marketing data\n",
        "\n",
        "Let's take a look at the data we have uploaded into Azure Machine Learning. This is essentially a set of calls made to customers of a particular bank. The goal of the calls was to upsell customers on a product/service. This data set contains a row for each call, with the demographic infromation of the customer in all columns except for the final column `y`, which will indicate whether a customer ended up upgrading to the additional services/products. \n",
        "\n",
        "> S. Moro, P. Cortez and P. Rita. A Data-Driven Approach to Predict the Success of Bank Telemarketing. Decision Support Systems, Elsevier, 62:22-31, June 2014 "
      ]
    },
    {
      "cell_type": "markdown",
      "metadata": {},
      "source": [
        "# Initiate the AutoML run on Azure\n",
        "From inside of the Azure Machine Learning Studio, you should create an AutoML experiment and intiiate a set of runs to determine the most accurate machine learning model. \n",
        "\n",
        "1. Click on Automated ML and create a new Automated ML.\n",
        "\n",
        "    ![new automl](Images/new-automl.png)<br/><br/>\n",
        "\n",
        "2. Select the bank-marketing dataset.\n",
        "\n",
        "3. Configure your experiment by choosing an experiment name `ms-learn-exp`, choosing `y` as the target column and creating a new compute cluster called `ms-learn-compute`.\n",
        "\n",
        "    ![experiment configuation](Images/configure-run.png)<br/><br/>\n",
        "\n",
        "4. Choose `Classification` as the task type.\n",
        "\n",
        "5. Once the Run has completed, click on the `models` tab and you will find the most accurate model. In this case, it was the `VotingEnsemble` model with 90.85 accuracy.\n",
        "\n",
        "    ![automl model accuracy](Images/best-run.png)<br/><br/>"
      ]
    },
    {
      "metadata": {},
      "cell_type": "markdown",
      "source": [
        "## Deploy your model as a web service\n",
        "\n",
        "This is the important part. Once deployed as a web service, your model can be accessed from anywhere. This means that rather than refit a model every time you need a new prediction for a business or humanitarian use case, you can send the data to the pre-fitted model and get back a prediction.\n",
        "\n",
        "1. Choose the model that you want to deploy. In this case, we will deploy the most accurate model: `VotingEnsemble`. Click on \"Deploy\".\n",
        "\n",
        "    ![automl model run details](Images/best-run-details.png)<br/><br/>\n",
        "\n",
        "2. Name the deployment and make sure you choose `ACI` (Azure Compute Instance).\n",
        "\n",
        "    ![automl model deployment](Images/best-run-deploy.png)<br/><br/>\n",
        "\n",
        "3. Now you can access the REST API endpoint created for you by viewing `Endpoints`. (NOTE: It might take a few minutes for the endpoint to be created).    \n",
        "\n",
        "    ![model endpoint](Images/rest-api-endpoint.png)<br/><br/>"
      ]
    }
  ],
  "metadata": {
    "kernelspec": {
      "name": "python38232bit0ff534d071bf4c2b84d5aabc8564a691",
      "display_name": "Python 3.8.2 32-bit",
      "language": "python"
    },
    "language_info": {
      "mimetype": "text/x-python",
      "nbconvert_exporter": "python",
      "name": "python",
      "pygments_lexer": "ipython2",
      "version": "3.8.2-final",
      "file_extension": ".py",
      "codemirror_mode": {
        "version": 2,
        "name": "ipython"
      }
    }
  },
  "nbformat": 4,
  "nbformat_minor": 1
}